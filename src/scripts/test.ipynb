{
 "cells": [
  {
   "cell_type": "markdown",
   "metadata": {},
   "source": [
    "0. Import Packages"
   ]
  },
  {
   "cell_type": "code",
   "execution_count": 2,
   "metadata": {},
   "outputs": [],
   "source": [
    "import sys\n",
    "sys.path.append('../Classes')\n",
    "sys.path.append('../Classes/Components')\n",
    "sys.path.append('../../Lib/site-packages')\n",
    "\n",
    "from pyvis.network import Network\n",
    "import numpy as np\n",
    "import pandas as pd\n",
    "import requests\n",
    "import re\n",
    "import json\n",
    "import networkx as nx\n",
    "from equilibrator_api import ComponentContribution, Q_\n",
    "\n",
    "from WholeCellConsortiumModel import WholeCellConsortiumModel\n",
    "from MetabolicPathwayNetworkGraph import MetabolicPathwayNetworkGraph\n",
    "from MPNG_Metabolite import MPNG_Metabolite\n",
    "from MPNG_Reaction import MPNG_Reaction\n",
    "from parse_KEGG_query import parse_KEGG"
   ]
  },
  {
   "cell_type": "markdown",
   "metadata": {},
   "source": [
    "Test querying all metabolites in KEGG"
   ]
  },
  {
   "cell_type": "code",
   "execution_count": 3,
   "metadata": {},
   "outputs": [],
   "source": [
    "from io import StringIO\n",
    "import re\n",
    "\n",
    "# req = requests.get('https://rest.kegg.jp/list/compound')\n",
    "# metabolite_entries = []\n",
    "# req_2 = StringIO(req.text)\n",
    "# for line_level_1 in req_2:\n",
    "#     if line_level_1[0] == 'C':\n",
    "#         metabolite_entries.append(re.split('\\t',line_level_1.strip())[0].strip())\n",
    "\n",
    "# req = requests.get('https://rest.kegg.jp/list/reaction')\n",
    "# reaction_entries = []\n",
    "# req_2 = StringIO(req.text)\n",
    "# for line_level_1 in req_2:\n",
    "#     if line_level_1[0] == 'R':\n",
    "#         reaction_entries.append(re.split('\\t',line_level_1.strip())[0].strip())\n",
    "\n",
    "req = requests.get('https://rest.kegg.jp/list/enzyme')\n",
    "enzyme_entries = []\n",
    "req_2 = StringIO(req.text)\n",
    "for line_level_1 in req_2:\n",
    "    enzyme_id = re.split('\\t',line_level_1.strip())[0].strip()\n",
    "    if '.' in enzyme_id:\n",
    "        enzyme_entries.append(enzyme_id)"
   ]
  },
  {
   "cell_type": "code",
   "execution_count": null,
   "metadata": {},
   "outputs": [],
   "source": [
    "print(enzyme_entries)\n",
    "\n",
    "# [metabolites,[],[]] = parse_KEGG(metabolite_entries)\n",
    "# [[],reactions,[]] = parse_KEGG(reaction_entries)\n",
    "[[],[],enzymes] = parse_KEGG(enzyme_entries)\n",
    "# print(metabolites[0].BRITE_dict,metabolites[0].generic)"
   ]
  },
  {
   "cell_type": "code",
   "execution_count": 5,
   "metadata": {},
   "outputs": [],
   "source": [
    "# with open('metabolites.json', 'w', encoding='utf-8') as f:\n",
    "#     json.dump(list(map(lambda x: x.toJSON(),metabolites)), f, ensure_ascii=False, indent=4)\n",
    "# with open('reactions.json', 'w', encoding='utf-8') as f:\n",
    "#     json.dump(list(map(lambda x: x.toJSON(),reactions)), f, ensure_ascii=False, indent=4)\n",
    "with open('enzymes.json', 'w', encoding='utf-8') as f:\n",
    "    json.dump(list(map(lambda x: x.toJSON(),enzymes)), f, ensure_ascii=False, indent=4)\n"
   ]
  },
  {
   "cell_type": "markdown",
   "metadata": {},
   "source": [
    "PubChem Access Test"
   ]
  },
  {
   "cell_type": "code",
   "execution_count": null,
   "metadata": {},
   "outputs": [],
   "source": [
    "import json\n",
    "import requests\n",
    "from io import StringIO\n",
    "import re\n",
    "\n",
    "req = requests.get('https://pubchem.ncbi.nlm.nih.gov/rest/pug/compound/name/butanol/cids/JSON')\n",
    "print(json.loads(req.text))"
   ]
  },
  {
   "cell_type": "markdown",
   "metadata": {},
   "source": [
    "BRITE query test"
   ]
  },
  {
   "cell_type": "code",
   "execution_count": null,
   "metadata": {},
   "outputs": [],
   "source": [
    "import sys\n",
    "sys.path.append('../Classes')\n",
    "sys.path.append('../Classes/Components')\n",
    "sys.path.append('../../Lib/site-packages')\n",
    "from parse_KEGG_query import parse_KEGG\n",
    "\n",
    "test = parse_KEGG(['C00469'])\n",
    "print(test[0][0].BRITE_dict)"
   ]
  },
  {
   "cell_type": "markdown",
   "metadata": {},
   "source": [
    "BRENDA Access Test"
   ]
  },
  {
   "cell_type": "code",
   "execution_count": null,
   "metadata": {},
   "outputs": [],
   "source": [
    "from zeep import Client\n",
    "import hashlib\n",
    "import json\n",
    "import requests\n",
    "from io import StringIO\n",
    "import re\n",
    "\n",
    "req = requests.get('https://rest.kegg.jp/list/enzyme')\n",
    "enzyme_entries = []\n",
    "req_2 = StringIO(req.text)\n",
    "for line_level_1 in req_2:\n",
    "    enzyme_id = re.split('\\t',line_level_1.strip())[0].strip()\n",
    "    if '.' in enzyme_id:\n",
    "        enzyme_entries.append(enzyme_id)\n",
    "# print(enzyme_entries)\n",
    "\n",
    "wsdl = \"https://www.brenda-enzymes.org/soap/brenda_zeep.wsdl\"\n",
    "password = hashlib.sha256(\"b3br?B$iDjpeJm77\".encode(\"utf-8\")).hexdigest()\n",
    "client = Client(wsdl)\n",
    "# parameters = ( \"v.a.xu@wustl.edu\",password,\"ecNumber*1.1.1.1\",\"organism*Homo sapiens\",\"kmValue*\",\n",
    "#               \"kmValueMaximum*\",\"substrate*\",\"commentary*\",\"ligandStructureId*\",\"literature*\")\n",
    "# resultString = client.service.getKmValue(*parameters)\n",
    "# print (resultString)\n",
    "\n",
    "enz = {}\n",
    "parameters = (\"v.a.xu@wustl.edu\",password,\"ecNumber*1.1.1.1\", \"naturalSubstrate*\", \"naturalReactionPartners*\", \"organism*\", \"ligandStructureId*\")\n",
    "res2 = client.service.getNaturalSubstrate(*parameters)\n",
    "natRxnPartners = [x['naturalReactionPartners'] for x in res2]\n",
    "print('res2',len(res2),res2[0])\n",
    "\n",
    "# parameters = (\"v.a.xu@wustl.edu\",password,\"ecNumber*1.1.1.1\", \"naturalProduct*\", \"naturalReactionPartners*\", \"organism*\", \"ligandStructureId*\")\n",
    "# resultString = client.service.getNaturalProduct(*parameters)\n",
    "# print('res3',len(resultString),resultString[0])\n",
    "\n",
    "# parameters = (\"v.a.xu@wustl.edu\",password,\"ecNumber*1.1.1.1*1.1.1.2\", \"naturalProduct*\", \"naturalReactionPartners*\", \"organism*\", \"ligandStructureId*\")\n",
    "# res3 = client.service.getNaturalProduct(*parameters)\n",
    "# print('res3',res3)\n",
    "\n",
    "parameters = (\"v.a.xu@wustl.edu\",password,\"ecNumber*1.1.1.1\", \"organism*\", \"naturalSubstrates*\", \"organismNaturalSubstrates*\", \"commentaryNaturalSubstrates*\", \"naturalProducts*\", \"commentaryNaturalProducts*\", \"organismNaturalProducts*\", \"reversibility*\")\n",
    "print(*parameters)\n",
    "resultString = client.service.getNaturalSubstratesProducts(*parameters)\n",
    "print('res4',len(resultString),resultString[0])\n",
    "print('res4_2',resultString[1]['naturalSubstrates'])\n",
    "test = resultString[1]['naturalSubstrates']\n",
    "split = test.split(' + ')\n",
    "print('test',test)\n",
    "print('split',split)"
   ]
  },
  {
   "cell_type": "markdown",
   "metadata": {},
   "source": [
    "JSON Test"
   ]
  },
  {
   "cell_type": "code",
   "execution_count": 2,
   "metadata": {},
   "outputs": [],
   "source": [
    "import json\n",
    "test = {'a':1,'b':2,'c':4}\n",
    "test2 = {'d':7}\n",
    "\n",
    "with open('test.json', 'w', encoding='utf-8') as f:\n",
    "    json.dump(test2, f, ensure_ascii=False, indent=4)"
   ]
  },
  {
   "cell_type": "markdown",
   "metadata": {},
   "source": [
    "Show generic compounds"
   ]
  },
  {
   "cell_type": "code",
   "execution_count": null,
   "metadata": {},
   "outputs": [],
   "source": [
    "import sys\n",
    "sys.path.append('../Classes')\n",
    "sys.path.append('../Classes/Components')\n",
    "sys.path.append('../../Lib/site-packages')\n",
    "\n",
    "from io import StringIO\n",
    "import re\n",
    "import json\n",
    "\n",
    "import numpy as np\n",
    "\n",
    "import requests\n",
    "from WholeCellConsortiumModel import WholeCellConsortiumModel\n",
    "from MetabolicPathwayNetworkGraph import MetabolicPathwayNetworkGraph\n",
    "from MPNG_Metabolite import MPNG_Metabolite\n",
    "from MPNG_Reaction import MPNG_Reaction\n",
    "from parse_KEGG_query import parse_KEGG\n",
    "\n",
    "# req = requests.get('https://rest.kegg.jp/list/compound')\n",
    "# metabolite_entries = []\n",
    "# req_2 = StringIO(req.text)\n",
    "# for line_level_1 in req_2:\n",
    "#     if line_level_1[0] == 'C':\n",
    "#         metabolite_entries.append(re.split('\\t',line_level_1.strip())[0].strip())\n",
    "\n",
    "# [metabolites,[],[]] = parse_KEGG(metabolite_entries)\n",
    "\n",
    "# with open('metabolites.json', 'w', encoding='utf-8') as f:\n",
    "#     json.dump(list(map(lambda x: x.toJSON(),metabolites)), f, ensure_ascii=False, indent=4)\n",
    "\n",
    "wccm = WholeCellConsortiumModel()\n",
    "wccm.identify_generic_compounds()"
   ]
  },
  {
   "cell_type": "markdown",
   "metadata": {},
   "source": [
    "Set and save reaction reversibilities"
   ]
  },
  {
   "cell_type": "code",
   "execution_count": null,
   "metadata": {},
   "outputs": [],
   "source": [
    "import sys\n",
    "sys.path.insert(0, '..\\\\Classes')\n",
    "sys.path.insert(0, '..\\\\Classes\\\\Components')\n",
    "sys.path.insert(0, '..\\\\..\\\\Lib\\\\site-packages')\n",
    "\n",
    "import numpy as np\n",
    "\n",
    "from WholeCellConsortiumModel import WholeCellConsortiumModel\n",
    "from MetabolicPathwayNetworkGraph import MetabolicPathwayNetworkGraph\n",
    "from MPNG_Metabolite import MPNG_Metabolite\n",
    "from MPNG_Reaction import MPNG_Reaction\n",
    "from parse_KEGG_query import parse_KEGG\n",
    "\n",
    "wccm = WholeCellConsortiumModel()\n",
    "wccm.generate_whole_network('test')\n",
    "# wccm.match_KEGG_compounds_to_BRENDA()\n",
    "wccm.set_reaction_reversibility()"
   ]
  },
  {
   "cell_type": "markdown",
   "metadata": {},
   "source": [
    "Tests on WCCM"
   ]
  },
  {
   "cell_type": "code",
   "execution_count": null,
   "metadata": {},
   "outputs": [],
   "source": [
    "import pandas as pd\n",
    "\n",
    "test = pd.DataFrame([1,2,3,4],index=['abcde','b','c','d'])\n",
    "\n",
    "print(test)\n",
    "print(test.loc[['ab'+'cde']])"
   ]
  },
  {
   "cell_type": "code",
   "execution_count": 1,
   "metadata": {},
   "outputs": [
    {
     "name": "stdout",
     "output_type": "stream",
     "text": [
      "['..\\\\..\\\\Lib\\\\site-packages', '..\\\\Classes\\\\Components', '..\\\\Classes', 'c:\\\\Users\\\\xuvin\\\\AppData\\\\Local\\\\Programs\\\\Python\\\\Python311\\\\python311.zip', 'c:\\\\Users\\\\xuvin\\\\AppData\\\\Local\\\\Programs\\\\Python\\\\Python311\\\\DLLs', 'c:\\\\Users\\\\xuvin\\\\AppData\\\\Local\\\\Programs\\\\Python\\\\Python311\\\\Lib', 'c:\\\\Users\\\\xuvin\\\\AppData\\\\Local\\\\Programs\\\\Python\\\\Python311', 'c:\\\\Users\\\\xuvin\\\\py_repos\\\\CF_pathway_optimization\\\\.venv', '', 'c:\\\\Users\\\\xuvin\\\\py_repos\\\\CF_pathway_optimization\\\\.venv\\\\Lib\\\\site-packages', 'c:\\\\Users\\\\xuvin\\\\py_repos\\\\CF_pathway_optimization\\\\.venv\\\\Lib\\\\site-packages\\\\win32', 'c:\\\\Users\\\\xuvin\\\\py_repos\\\\CF_pathway_optimization\\\\.venv\\\\Lib\\\\site-packages\\\\win32\\\\lib', 'c:\\\\Users\\\\xuvin\\\\py_repos\\\\CF_pathway_optimization\\\\.venv\\\\Lib\\\\site-packages\\\\Pythonwin']\n"
     ]
    },
    {
     "ename": "ImportError",
     "evalue": "Unable to import required dependencies:\nnumpy: Error importing numpy: you should not try to import numpy from\n        its source directory; please exit the numpy source tree, and relaunch\n        your python interpreter from there.",
     "output_type": "error",
     "traceback": [
      "\u001b[1;31m---------------------------------------------------------------------------\u001b[0m",
      "\u001b[1;31mImportError\u001b[0m                               Traceback (most recent call last)",
      "Cell \u001b[1;32mIn[1], line 7\u001b[0m\n\u001b[0;32m      4\u001b[0m sys\u001b[38;5;241m.\u001b[39mpath\u001b[38;5;241m.\u001b[39minsert(\u001b[38;5;241m0\u001b[39m, \u001b[38;5;124m'\u001b[39m\u001b[38;5;124m..\u001b[39m\u001b[38;5;130;01m\\\\\u001b[39;00m\u001b[38;5;124m..\u001b[39m\u001b[38;5;130;01m\\\\\u001b[39;00m\u001b[38;5;124mLib\u001b[39m\u001b[38;5;130;01m\\\\\u001b[39;00m\u001b[38;5;124msite-packages\u001b[39m\u001b[38;5;124m'\u001b[39m)\n\u001b[0;32m      5\u001b[0m \u001b[38;5;28mprint\u001b[39m(sys\u001b[38;5;241m.\u001b[39mpath)\n\u001b[1;32m----> 7\u001b[0m \u001b[38;5;28;01mfrom\u001b[39;00m\u001b[38;5;250m \u001b[39m\u001b[38;5;21;01mWholeCellConsortiumModel\u001b[39;00m\u001b[38;5;250m \u001b[39m\u001b[38;5;28;01mimport\u001b[39;00m WholeCellConsortiumModel\n\u001b[0;32m      8\u001b[0m \u001b[38;5;28;01mfrom\u001b[39;00m\u001b[38;5;250m \u001b[39m\u001b[38;5;21;01mMetabolicPathwayNetworkGraph\u001b[39;00m\u001b[38;5;250m \u001b[39m\u001b[38;5;28;01mimport\u001b[39;00m MetabolicPathwayNetworkGraph\n\u001b[0;32m      9\u001b[0m \u001b[38;5;28;01mfrom\u001b[39;00m\u001b[38;5;250m \u001b[39m\u001b[38;5;21;01mMPNG_Metabolite\u001b[39;00m\u001b[38;5;250m \u001b[39m\u001b[38;5;28;01mimport\u001b[39;00m MPNG_Metabolite\n",
      "File \u001b[1;32mc:\\Users\\xuvin\\py_repos\\CF_pathway_optimization\\src\\Scripts\\..\\Classes\\WholeCellConsortiumModel.py:4\u001b[0m\n\u001b[0;32m      2\u001b[0m \u001b[38;5;28;01mimport\u001b[39;00m\u001b[38;5;250m \u001b[39m\u001b[38;5;21;01mnetworkx\u001b[39;00m\u001b[38;5;250m \u001b[39m\u001b[38;5;28;01mas\u001b[39;00m\u001b[38;5;250m \u001b[39m\u001b[38;5;21;01mnx\u001b[39;00m\n\u001b[0;32m      3\u001b[0m \u001b[38;5;28;01mimport\u001b[39;00m\u001b[38;5;250m \u001b[39m\u001b[38;5;21;01mjson\u001b[39;00m\n\u001b[1;32m----> 4\u001b[0m \u001b[38;5;28;01mimport\u001b[39;00m\u001b[38;5;250m \u001b[39m\u001b[38;5;21;01mpandas\u001b[39;00m\u001b[38;5;250m \u001b[39m\u001b[38;5;28;01mas\u001b[39;00m\u001b[38;5;250m \u001b[39m\u001b[38;5;21;01mpd\u001b[39;00m\n\u001b[0;32m      5\u001b[0m \u001b[38;5;28;01mimport\u001b[39;00m\u001b[38;5;250m \u001b[39m\u001b[38;5;21;01mre\u001b[39;00m\n\u001b[0;32m      6\u001b[0m \u001b[38;5;28;01mimport\u001b[39;00m\u001b[38;5;250m \u001b[39m\u001b[38;5;21;01mcopy\u001b[39;00m\n",
      "File \u001b[1;32mc:\\Users\\xuvin\\py_repos\\CF_pathway_optimization\\src\\Scripts\\..\\..\\Lib\\site-packages\\pandas\\__init__.py:32\u001b[0m\n\u001b[0;32m     29\u001b[0m         _missing_dependencies\u001b[38;5;241m.\u001b[39mappend(\u001b[38;5;124mf\u001b[39m\u001b[38;5;124m\"\u001b[39m\u001b[38;5;132;01m{\u001b[39;00m_dependency\u001b[38;5;132;01m}\u001b[39;00m\u001b[38;5;124m: \u001b[39m\u001b[38;5;132;01m{\u001b[39;00m_e\u001b[38;5;132;01m}\u001b[39;00m\u001b[38;5;124m\"\u001b[39m)\n\u001b[0;32m     31\u001b[0m \u001b[38;5;28;01mif\u001b[39;00m _missing_dependencies:  \u001b[38;5;66;03m# pragma: no cover\u001b[39;00m\n\u001b[1;32m---> 32\u001b[0m     \u001b[38;5;28;01mraise\u001b[39;00m \u001b[38;5;167;01mImportError\u001b[39;00m(\n\u001b[0;32m     33\u001b[0m         \u001b[38;5;124m\"\u001b[39m\u001b[38;5;124mUnable to import required dependencies:\u001b[39m\u001b[38;5;130;01m\\n\u001b[39;00m\u001b[38;5;124m\"\u001b[39m \u001b[38;5;241m+\u001b[39m \u001b[38;5;124m\"\u001b[39m\u001b[38;5;130;01m\\n\u001b[39;00m\u001b[38;5;124m\"\u001b[39m\u001b[38;5;241m.\u001b[39mjoin(_missing_dependencies)\n\u001b[0;32m     34\u001b[0m     )\n\u001b[0;32m     35\u001b[0m \u001b[38;5;28;01mdel\u001b[39;00m _hard_dependencies, _dependency, _missing_dependencies\n\u001b[0;32m     37\u001b[0m \u001b[38;5;28;01mtry\u001b[39;00m:\n\u001b[0;32m     38\u001b[0m     \u001b[38;5;66;03m# numpy compat\u001b[39;00m\n",
      "\u001b[1;31mImportError\u001b[0m: Unable to import required dependencies:\nnumpy: Error importing numpy: you should not try to import numpy from\n        its source directory; please exit the numpy source tree, and relaunch\n        your python interpreter from there."
     ]
    }
   ],
   "source": [
    "import sys\n",
    "sys.path.insert(0, '..\\\\Classes')\n",
    "sys.path.insert(0, '..\\\\Classes\\\\Components')\n",
    "sys.path.insert(0, '..\\\\..\\\\Lib\\\\site-packages')\n",
    "print(sys.path)\n",
    "\n",
    "from WholeCellConsortiumModel import WholeCellConsortiumModel\n",
    "from MetabolicPathwayNetworkGraph import MetabolicPathwayNetworkGraph\n",
    "from MPNG_Metabolite import MPNG_Metabolite\n",
    "from MPNG_Reaction import MPNG_Reaction\n",
    "from parse_KEGG_query import parse_KEGG\n",
    "\n",
    "wccm = WholeCellConsortiumModel()\n",
    "wccm.generate_whole_network('test')\n",
    "test_graph_2 = wccm.seek_optimal_network('test',['C00048'],['C00469','C00011'],2,2)\n",
    "wccm.visualize_graph('test')\n",
    "\n",
    "# STARTHERE:\n",
    "# 1. Enzyme query from BRENDA for reaction reversibility\n",
    "# 2. Generic compounds assignment based on BRITE heirarchy"
   ]
  }
 ],
 "metadata": {
  "kernelspec": {
   "display_name": ".venv",
   "language": "python",
   "name": "python3"
  },
  "language_info": {
   "codemirror_mode": {
    "name": "ipython",
    "version": 3
   },
   "file_extension": ".py",
   "mimetype": "text/x-python",
   "name": "python",
   "nbconvert_exporter": "python",
   "pygments_lexer": "ipython3",
   "version": "3.11.9"
  }
 },
 "nbformat": 4,
 "nbformat_minor": 2
}
